{
 "cells": [
  {
   "cell_type": "code",
   "execution_count": 10,
   "metadata": {},
   "outputs": [
    {
     "data": {
      "text/plain": [
       "55"
      ]
     },
     "execution_count": 10,
     "metadata": {},
     "output_type": "execute_result"
    }
   ],
   "source": [
    "from functools import reduce\n",
    "items = [1,2,3,4,5]\n",
    "reduce(lambda x,y: x+y*y ,items,0)"
   ]
  },
  {
   "cell_type": "code",
   "execution_count": 6,
   "metadata": {},
   "outputs": [
    {
     "data": {
      "text/plain": [
       "5"
      ]
     },
     "execution_count": 6,
     "metadata": {},
     "output_type": "execute_result"
    }
   ],
   "source": [
    "from functools import reduce\n",
    "items = [1,2,3,4,5]\n",
    "reduce(lambda x,y: x+1 ,items,0)"
   ]
  },
  {
   "cell_type": "code",
   "execution_count": 8,
   "metadata": {},
   "outputs": [
    {
     "data": {
      "text/plain": [
       "5"
      ]
     },
     "execution_count": 8,
     "metadata": {},
     "output_type": "execute_result"
    }
   ],
   "source": [
    "from functools import reduce\n",
    "items = [1,2,3,4,5]\n",
    "reduce(lambda x,y: max(x,y) ,items)"
   ]
  },
  {
   "cell_type": "code",
   "execution_count": 2,
   "metadata": {
    "scrolled": true
   },
   "outputs": [
    {
     "name": "stdout",
     "output_type": "stream",
     "text": [
      "原始的mapOutKeyValues: [[('1', '21')], [('2', '22')], [('3', '23')], [('4', '24')], [('5', '25')], [('6', '22')], [('1', '23')], [('2', '24')], [('3', '25')], [('4', '26')], [('5', '18')], [('1', '19')], [('2', '20')], [('3', '21')], [('4', '22')], [('5', '24')], [('1', '25')], [('2', '26')], [('3', '22')], [('4', '21')], [('5', '22')], [('1', '23')], [('2', '27')], [('3', '25')], [('4', '23')], [('5', '24')], [('6', '22')]]\n",
      "经延展的mapOutKeyOut: [('1', '21'), ('2', '22'), ('3', '23'), ('4', '24'), ('5', '25'), ('6', '22'), ('1', '23'), ('2', '24'), ('3', '25'), ('4', '26'), ('5', '18'), ('1', '19'), ('2', '20'), ('3', '21'), ('4', '22'), ('5', '24'), ('1', '25'), ('2', '26'), ('3', '22'), ('4', '21'), ('5', '22'), ('1', '23'), ('2', '27'), ('3', '25'), ('4', '23'), ('5', '24'), ('6', '22')]\n",
      "最后，经排序后的mapOutKeyValues: [('1', '21'), ('1', '23'), ('1', '19'), ('1', '25'), ('1', '23'), ('2', '22'), ('2', '24'), ('2', '20'), ('2', '26'), ('2', '27'), ('3', '23'), ('3', '25'), ('3', '21'), ('3', '22'), ('3', '25'), ('4', '24'), ('4', '26'), ('4', '22'), ('4', '21'), ('4', '23'), ('5', '25'), ('5', '18'), ('5', '24'), ('5', '22'), ('5', '24'), ('6', '22'), ('6', '22')]\n",
      "1 ['21', '25', '19', '23']\n",
      "2 ['27', '20', '22', '26', '24']\n",
      "3 ['21', '25', '23', '22']\n",
      "4 ['21', '24', '26', '23', '22']\n",
      "5 ['22', '18', '25', '24']\n",
      "6 ['22']\n"
     ]
    }
   ],
   "source": [
    "import sys\n",
    "import itertools\n",
    "import pandas as pd\n",
    "from functools import reduce\n",
    "\n",
    "def mapreduceFramework(mapFn,reduceFn,lines):\n",
    "    inKeyValues = [(index,line) for index , line in enumerate(lines)]\n",
    "    mapOutKeyValues = list(map(mapFn,inKeyValues))\n",
    "    print(\"原始的mapOutKeyValues:\",mapOutKeyValues)\n",
    "    mapOutKeyValues = list(itertools.chain.from_iterable(mapOutKeyValues))\n",
    "    print(\"经延展的mapOutKeyOut:\",mapOutKeyValues)\n",
    "    mapOutKeyValues.sort(key=lambda x : x[0])\n",
    "    print(\"最后，经排序后的mapOutKeyValues:\",mapOutKeyValues)\n",
    "    curReduceKey = None\n",
    "    curReduceValues = []\n",
    "    for key, value in mapOutKeyValues:\n",
    "        if curReduceKey and curReduceKey!= key:\n",
    "\n",
    "            outKey,outVal = reduceFn(curReduceKey,curReduceValues)\n",
    "            print(outKey,outVal)\n",
    "\n",
    "            curReduceKey = key\n",
    "            curReduceValues = [value]\n",
    "        else:\n",
    "            curReduceKey = key\n",
    "            curReduceValues.append(value)\n",
    "        \n",
    "    if curReduceKey:\n",
    "        outKey,outVal = reduceFn(curReduceKey,curReduceValues)\n",
    "        print(outKey,outVal)\n",
    "\n",
    "\n",
    "def maxTemMapFn(inKeyValue):\n",
    "    key,value = inKeyValue[0],inKeyValue[1]\n",
    "    items = value.split(\",\")\n",
    "    id = items[1]\n",
    "    tempearture = items[2]\n",
    "    mapperOut = [(id,tempearture)]\n",
    "    return  mapperOut\n",
    "def maxTempReduceFn(key, valueList):\n",
    "    maxVal = -sys.maxsize - 1\n",
    "    print(valueList)\n",
    "    for val in valueList:\n",
    "        maxVal = max(maxVal, int(val))\n",
    "    return(key,maxVal)\n",
    "\n",
    "def minTemMapFn(inKeyValue):\n",
    "    key,value = inKeyValue[0],inKeyValue[1]\n",
    "    items = value.split(\",\")\n",
    "    id = items[1]\n",
    "    tempearture = items[2]\n",
    "    mapperOut = [(id,tempearture)]\n",
    "    return  mapperOut\n",
    "def minTempReduceFn(key, valueList):\n",
    "    minVal = sys.maxsize + 1\n",
    "    print(valueList)\n",
    "    for val in valueList:\n",
    "        minVal = min(minVal, int(val))\n",
    "    return(key,minVal)\n",
    "\n",
    "def numTemMapFn(inKeyValue):\n",
    "    key,value = inKeyValue[0],inKeyValue[1]\n",
    "    items = value.split(\",\")\n",
    "    id = items[1]\n",
    "    tempearture = items[2]\n",
    "    mapperOut = [(id,tempearture)]\n",
    "    return  mapperOut\n",
    "def numTempReduceFn(key, valueList):\n",
    "    print(valueList)\n",
    "    return(key,len(valueList))\n",
    "\n",
    "def filterTemMapFn(inKeyValue):\n",
    "    key,value = inKeyValue[0],inKeyValue[1]\n",
    "    items = value.split(\",\")\n",
    "    id = items[1]\n",
    "    tempearture = items[2]\n",
    "    mapperOut = [(id,tempearture)]\n",
    "    return  mapperOut\n",
    "def filterTempReduceFn(key, valueList):\n",
    "    filterVal = []\n",
    "    print(valueList)\n",
    "    for val in valueList:\n",
    "        if int(val) < 30:\n",
    "            filterVal.append(val)\n",
    "    return(key,filterVal)\n",
    "\n",
    "def setTemMapFn(inKeyValue):\n",
    "    key,value = inKeyValue[0],inKeyValue[1]\n",
    "    items = value.split(\",\")\n",
    "    id = items[1]\n",
    "    tempearture = items[2]\n",
    "    mapperOut = [(id,tempearture)]\n",
    "    return  mapperOut\n",
    "def setTempReduceFn(key, valueList):\n",
    "    return(key,list(set(valueList)))\n",
    "\n",
    "import os\n",
    "filePath = \"D:\\\\spark学习\\\\实验\\\\小作业\\\\高阶函数\\\\temperatures.csv\"\n",
    "\n",
    "f=open(filePath)\n",
    "items=[(item.strip(\"\\n\")) for item in f.readlines()[1:]]\n",
    "f.close()\n",
    "\n",
    "mapreduceFramework(maxTemMapFn,setTempReduceFn,items)"
   ]
  },
  {
   "cell_type": "code",
   "execution_count": null,
   "metadata": {},
   "outputs": [],
   "source": []
  }
 ],
 "metadata": {
  "kernelspec": {
   "display_name": "Python 3",
   "language": "python",
   "name": "python3"
  },
  "language_info": {
   "codemirror_mode": {
    "name": "ipython",
    "version": 3
   },
   "file_extension": ".py",
   "mimetype": "text/x-python",
   "name": "python",
   "nbconvert_exporter": "python",
   "pygments_lexer": "ipython3",
   "version": "3.8.5"
  }
 },
 "nbformat": 4,
 "nbformat_minor": 4
}
